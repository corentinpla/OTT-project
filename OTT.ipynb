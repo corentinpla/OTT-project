{
 "cells": [
  {
   "cell_type": "markdown",
   "metadata": {},
   "source": [
    "# Monge, Bregman and Occam: Interpretable Optimal Transport in High-Dimensions with Feature-Sparse Maps"
   ]
  },
  {
   "cell_type": "markdown",
   "metadata": {},
   "source": [
    "https://proceedings.mlr.press/v202/cuturi23a.html"
   ]
  },
  {
   "cell_type": "code",
   "execution_count": 25,
   "metadata": {},
   "outputs": [],
   "source": [
    "import jax\n",
    "import jax.numpy as jnp\n",
    "from jax import lax \n",
    "from jax import vmap\n",
    "\n",
    "import matplotlib.pyplot as plt\n",
    "from IPython import display\n",
    "\n",
    "import ott\n",
    "from ott.geometry import costs, pointcloud\n",
    "from ott.problems.linear import linear_problem\n",
    "from ott.solvers.linear import sinkhorn\n",
    "\n",
    "from tqdm import tqdm"
   ]
  },
  {
   "cell_type": "markdown",
   "metadata": {},
   "source": [
    "#### Monge Optimal Transport Problem\n",
    "\n",
    "We consider a translation-invariant cost function $c(x,y) := h(x-y)$ where $h : \\mathbb{R}^{d} \\longrightarrow \\mathbb{R}$. The Monge problem is the following optimisation problem :\n",
    "$$ T^{*} := \\arg\\limits_{T \\sharp \\mu = \\nu} \\inf { \\int_{\\mathbb{R}^{d}} h(x - T(x)) d\\mu(x) } $$\n",
    "With $\\forall A \\subset \\mathbb{R}^{d}, \\: T \\sharp \\mu(A) = \\mu(T^{-1}(A))$ "
   ]
  },
  {
   "cell_type": "markdown",
   "metadata": {},
   "source": [
    "In our case, we will consider $h$ of elastic type with the following form : $\\forall z \\in \\mathbb{R}^{d}, \\: h(z) := \\frac{1}{2} \\|z\\|^2 + \\tau(z)$ where $\\tau$ is a function whose proximal operator is well defined. \n",
    "\n",
    "The aim of the paper is to establish a consistant estimator $T_{h,\\varepsilon}$ of $T^{*}$. In this tutorial, we will restrict ourself to the following functions $\\tau$ which are pretty simple and implemented (with their gradient, proximal operator, ...) optimally in OTT JAX :"
   ]
  },
  {
   "cell_type": "markdown",
   "metadata": {},
   "source": [
    "1) Euclidian Case without any regularization : $\\tau(z) = 0$, associated cost function $h$ will be `SqEuclidean`"
   ]
  },
  {
   "cell_type": "markdown",
   "metadata": {},
   "source": [
    "2) $\\ell_1$ regularization : $\\tau(z) = \\gamma \\| z \\|_{1}$, associated cost function $h$ will be `ElasticL1`"
   ]
  },
  {
   "cell_type": "markdown",
   "metadata": {},
   "source": [
    "3) Soft Thresholding Vanishing Shrinkage (STVS) : $\\tau(z) = \\gamma^{2} \\mathbf{1}_{d}^{T}\\left( \\text{asinh}(\\frac{z}{2\\gamma}) + \\frac{1}{2} - \\frac{1}{2}e^{-2\\text{asinh}(\\frac{z}{2\\gamma})} \\right)$, associated cost function $h$ will be `ElasticSTVS`"
   ]
  },
  {
   "cell_type": "markdown",
   "metadata": {},
   "source": [
    "4) $k-$ Overlap : $\\tau(z) = \\| z \\|_{\\text{ov}k}$, associated cost function $h$ will be `ElasticSqKOverlap`"
   ]
  },
  {
   "cell_type": "markdown",
   "metadata": {},
   "source": [
    "##### In this tutorial, we wanted to explain some functions of OTT JAX and to illustrate this, we wanted to reproduce the Synthetic experiments in the case of Constant sparsity-pattern and x-dependent sparcity pattern which has been studied in the article\n",
    "\n",
    "We consider the following distributions: \n",
    "\n",
    "- $ \\mu = \\mathcal{U}_{[0,1]^d}$ ;\n",
    "- For an integer $ s<d $, we set $ \\nu = T^\\star_s \\sharp \\mu \\, , \\, T^\\star_s(x) = [\\exp(x_1), \\ldots, \\exp(x_s), x_{s+1}, \\ldots, x_d] $ where the map $ T^\\star_s $ acts on coordinates independently.\n",
    "- \n",
    "\n",
    "We then generate $n$ i.i.d. samples $x_i$ from $\\mu$, and $y_j$ from $\\nu$ independently. The samples $y_j$ are obtained by first generating fresh i.i.d. samples $\\tilde{x}_j$ from $\\mu$ and then pushing them: $y_j := T^\\star_s(\\tilde{x}_j)$."
   ]
  },
  {
   "cell_type": "code",
   "execution_count": 4,
   "metadata": {},
   "outputs": [],
   "source": [
    "def map_constant_pattern(X,s) : \n",
    "    return jnp.concatenate((jnp.exp(X[:,:s]), X[:,s:]),-1)\n",
    "\n",
    "#def map_constant_pattern(X, s):\n",
    "#    X = jnp.apply_along_axis(lambda x: jnp.concatenate([jnp.exp(x[:s]), x[s:]]) , axis=1, arr=X)\n",
    "#    return X\n",
    "\n",
    "def map_dependent_pattern(x, s):\n",
    "    n1 = jnp.sum(x[:s]**2)\n",
    "    n2 = jnp.sum(x[s:(2*s)]**2)\n",
    "\n",
    "    print(n1)\n",
    "    print(n2)\n",
    "\n",
    "    \n",
    "    if n1 > n2:\n",
    "        return jnp.concatenate(( jnp.exp(x[:,:s]), x[:,s:]),-1)\n",
    "        \n",
    "    else:\n",
    "        return jnp.concatenate(( x[:,:s], jnp.exp(x[:,s:2*s]), x[:,2*s:]),-1)"
   ]
  },
  {
   "cell_type": "code",
   "execution_count": 5,
   "metadata": {},
   "outputs": [
    {
     "data": {
      "text/plain": [
       "Array([[2.7182817, 7.389056 , 3.       , 4.       ],\n",
       "       [2.7182817, 7.389056 , 3.       , 4.       ]], dtype=float32)"
      ]
     },
     "execution_count": 5,
     "metadata": {},
     "output_type": "execute_result"
    }
   ],
   "source": [
    "map_constant_pattern(jnp.array([[1,2,3,4],[1,2,3,4]]),2)"
   ]
  },
  {
   "cell_type": "code",
   "execution_count": 6,
   "metadata": {},
   "outputs": [
    {
     "name": "stdout",
     "output_type": "stream",
     "text": [
      "60\n",
      "0\n"
     ]
    },
    {
     "data": {
      "text/plain": [
       "Array([[2.7182817, 7.389056 , 3.       , 4.       ],\n",
       "       [2.7182817, 7.389056 , 3.       , 4.       ]], dtype=float32)"
      ]
     },
     "execution_count": 6,
     "metadata": {},
     "output_type": "execute_result"
    }
   ],
   "source": [
    "map_dependent_pattern(jnp.array([[1,2,3,4],[1,2,3,4]]),2)"
   ]
  },
  {
   "cell_type": "code",
   "execution_count": 7,
   "metadata": {},
   "outputs": [],
   "source": [
    "def uniform_samples(n, d, key):\n",
    "   return(jnp.asarray(jax.random.uniform(key,(n,d))))\n",
    "\n",
    "\n",
    "def sample_data(n, d, s, type_transport):\n",
    "   key=jax.random.PRNGKey(0)\n",
    "   key_1, key_2 = jax.random.split(key)\n",
    "\n",
    "   X = uniform_samples(n,d,key_1)\n",
    "   X_tilde = uniform_samples(n,d,key_2)\n",
    "\n",
    "   if type_transport == \"constant_pattern\" :\n",
    "      T_star = map_constant_pattern(X, s)\n",
    "      Y = map_constant_pattern(X_tilde, s)\n",
    "\n",
    "   else : \n",
    "      T_star = map_dependent_pattern(X, s)\n",
    "      Y = map_dependent_pattern(X_tilde, s)\n",
    "   return(X, T_star, Y)\n"
   ]
  },
  {
   "cell_type": "code",
   "execution_count": 8,
   "metadata": {},
   "outputs": [
    {
     "name": "stdout",
     "output_type": "stream",
     "text": [
      "(1000, 100) (1000, 100) (1000, 100)\n"
     ]
    }
   ],
   "source": [
    "n = 1000\n",
    "d = 100\n",
    "s=5\n",
    "\n",
    "X, T_star, Y = sample_data(n, d, s, \"constant_pattern\")\n",
    "\n",
    "print(X.shape, T_star.shape, Y.shape)\n"
   ]
  },
  {
   "cell_type": "code",
   "execution_count": 10,
   "metadata": {},
   "outputs": [],
   "source": [
    "def run_experiment(X, Y, cost):\n",
    "\n",
    "    geom = ott.geometry.pointcloud.PointCloud(X, Y, cost_fn=cost)\n",
    "\n",
    "    ot_prob = linear_problem.LinearProblem(geom)\n",
    "\n",
    "    solver = sinkhorn.Sinkhorn()\n",
    "    \n",
    "    ot = solver(ot_prob)\n",
    "\n",
    "    dual_potentials = ot.to_dual_potentials()\n",
    "\n",
    "    return dual_potentials.transport(X)\n"
   ]
  },
  {
   "cell_type": "code",
   "execution_count": 28,
   "metadata": {},
   "outputs": [],
   "source": [
    "def normalized_mse(y, y_pred) :\n",
    "    return  (1/y.shape[1]) * jnp.mean(jnp.linalg.norm(y-y_pred,axis=1)**2)\n",
    "    \n",
    "def support_error(y_pred,x) :\n",
    "    delta = y_pred -x\n",
    "    return jnp.mean(jnp.sum(delta[:,s+1:]**2,axis=1) / (jnp.sum(delta**2,axis=1)))"
   ]
  },
  {
   "cell_type": "code",
   "execution_count": null,
   "metadata": {},
   "outputs": [],
   "source": [
    "cost_L2 = ott.geometry.costs.PNormP(2)\n",
    "cost_STVS = ott.geometry.costs.ElasticSTVS(scaling_reg=gamma, matrix=None, orthogonal=False)\n",
    "cost_L1= ott.geometry.costs.ElasticL1(scaling_reg=gamma, matrix=None, orthogonal=False)"
   ]
  },
  {
   "cell_type": "code",
   "execution_count": 58,
   "metadata": {},
   "outputs": [],
   "source": [
    "def compute_metrics(costs, n, d, s):\n",
    "    all_msse = []\n",
    "    all_support_errors = []\n",
    "\n",
    "    for cost in tqdm(costs):\n",
    "        X, T_star, Y = sample_data(n, d, s, \"constant_pattern\")\n",
    "        transport = run_experiment(X, Y, cost)\n",
    "\n",
    "        msse = normalized_mse(T_star, transport)\n",
    "        all_msse.append(msse)\n",
    "\n",
    "        error = support_error(transport,X)\n",
    "        all_support_errors.append(error)\n",
    "\n",
    "    return(all_msse,all_support_errors)"
   ]
  },
  {
   "cell_type": "code",
   "execution_count": 46,
   "metadata": {},
   "outputs": [],
   "source": [
    "gammas = sorted([10**(j) * i for i in range(1,10) for j in range(-2,2)])\n",
    "\n",
    "costs_L1 = [ott.geometry.costs.ElasticL1(scaling_reg=gamma, matrix=None, orthogonal=False) for gamma in gammas]\n",
    "costs_STVS = [ott.geometry.costs.ElasticSTVS(scaling_reg=gamma, matrix=None, orthogonal=False) for gamma in gammas]\n",
    "costs_L2 = [ott.geometry.costs.PNormP(2) for gamma in gammas]\n",
    "costs_ovk_7 = [ott.geometry.costs.ElasticSqKOverlap(7, scaling_reg=gamma) for gamma in gammas]\n",
    "costs_ovk_5 = [ott.geometry.costs.ElasticSqKOverlap(5, scaling_reg=gamma) for gamma in gammas]"
   ]
  },
  {
   "cell_type": "code",
   "execution_count": 59,
   "metadata": {},
   "outputs": [
    {
     "name": "stderr",
     "output_type": "stream",
     "text": [
      "100%|██████████| 36/36 [00:16<00:00,  2.15it/s]\n",
      "100%|██████████| 36/36 [00:32<00:00,  1.12it/s]\n",
      "100%|██████████| 36/36 [00:14<00:00,  2.47it/s]\n",
      "100%|██████████| 36/36 [01:47<00:00,  3.00s/it]\n",
      "100%|██████████| 36/36 [01:30<00:00,  2.51s/it]\n"
     ]
    }
   ],
   "source": [
    "n = 1000\n",
    "d = 8\n",
    "s=5\n",
    "\n",
    "msse_L1_d_8, support_errors_L1_d_8 = compute_metrics(costs_L1, n, d, s)\n",
    "msse_STVS_d_8, support_errors_STVS_d_8 = compute_metrics(costs_STVS, n, d, s)\n",
    "msse_L2_d_8, support_errors_L2_d_8 = compute_metrics(costs_L2, n, d, s)\n",
    "msse_ovk_7_d_8, support_errors_ovk_7_d_8 = compute_metrics(costs_ovk_7, n, d, s)\n",
    "msse_ovk_5_d_8, support_errors_ovk_5_d_8 = compute_metrics(costs_ovk_5, n, d, s)"
   ]
  },
  {
   "cell_type": "code",
   "execution_count": 30,
   "metadata": {},
   "outputs": [
    {
     "name": "stderr",
     "output_type": "stream",
     "text": [
      "100%|██████████| 36/36 [00:19<00:00,  1.86it/s]\n",
      "100%|██████████| 36/36 [01:05<00:00,  1.81s/it]\n",
      "100%|██████████| 36/36 [00:16<00:00,  2.20it/s]\n",
      "100%|██████████| 36/36 [03:10<00:00,  5.28s/it]\n",
      "100%|██████████| 36/36 [02:33<00:00,  4.27s/it]\n"
     ]
    }
   ],
   "source": [
    "n = 1000\n",
    "d = 20\n",
    "s=5\n",
    "\n",
    "msse_L1_d_20, support_errors_L1_d_20 = compute_metrics(costs_L1, n, d, s)\n",
    "msse_STVS_d_20, support_errors_STVS_d_20 = compute_metrics(costs_STVS, n, d, s)\n",
    "msse_L2_d_20, support_errors_L2_d_20 = compute_metrics(costs_L2, n, d, s)\n",
    "msse_ovk_7_d_20, support_errors_ovk_7_d_20 = compute_metrics(costs_ovk_7, n, d, s)\n",
    "msse_ovk_5_d_20, support_errors_ovk_5_d_20 = compute_metrics(costs_ovk_5, n, d, s)\n"
   ]
  },
  {
   "cell_type": "code",
   "execution_count": null,
   "metadata": {},
   "outputs": [],
   "source": [
    "n = 1000\n",
    "d = 100\n",
    "s=5\n",
    "\n",
    "msse_L1_d_100, support_errors_L1_d_100 = compute_metrics(costs_L1, n, d, s)\n",
    "msse_STVS_d_100, support_errors_STVS_d_100 = compute_metrics(costs_STVS, n, d, s)\n",
    "msse_L2_d_100, support_errors_L2_d_100 = compute_metrics(costs_L2, n, d, s)\n",
    "msse_ovk_7_d_100, support_errors_ovk_7_d_100 = compute_metrics(costs_ovk_7, n, d, s)\n",
    "msse_ovk_5_d_100, support_errors_ovk_5_d_100 = compute_metrics(costs_ovk_5, n, d, s)"
   ]
  },
  {
   "cell_type": "code",
   "execution_count": 52,
   "metadata": {},
   "outputs": [
    {
     "ename": "NameError",
     "evalue": "name 'support_errors_L2_d_20' is not defined",
     "output_type": "error",
     "traceback": [
      "\u001b[0;31m---------------------------------------------------------------------------\u001b[0m",
      "\u001b[0;31mNameError\u001b[0m                                 Traceback (most recent call last)",
      "Cell \u001b[0;32mIn[52], line 1\u001b[0m\n\u001b[0;32m----> 1\u001b[0m support_errors_L2_d_20\n",
      "\u001b[0;31mNameError\u001b[0m: name 'support_errors_L2_d_20' is not defined"
     ]
    }
   ],
   "source": [
    "support_errors_L2_d_20"
   ]
  },
  {
   "cell_type": "code",
   "execution_count": 61,
   "metadata": {},
   "outputs": [
    {
     "data": {
      "image/png": "[encoded data removed]",
      "text/plain": [
       "<Figure size 640x480 with 1 Axes>"
      ]
     },
     "metadata": {},
     "output_type": "display_data"
    }
   ],
   "source": [
    "plt.plot(gammas, support_errors_L1_d_8, label='L1')\n",
    "plt.plot(gammas, support_errors_STVS_d_8, label='STVS')\n",
    "plt.plot(gammas, support_errors_L2_d_8, label='L2')\n",
    "plt.plot(gammas, support_errors_ovk_7_d_8, label='OVK 7')\n",
    "plt.plot(gammas, support_errors_ovk_5_d_8, label='OVK 5')\n",
    "\n",
    "plt.xlabel('gamma')\n",
    "plt.ylabel('MSSE')\n",
    "plt.xscale('log')\n",
    "plt.ylim(0.02,0.08)\n",
    "plt.title('d=20 s=5')\n",
    "plt.legend()\n",
    "\n",
    "plt.show()"
   ]
  },
  {
   "cell_type": "code",
   "execution_count": 49,
   "metadata": {},
   "outputs": [
    {
     "data": {
      "image/png": "[encoded data removed]",
      "text/plain": [
       "<Figure size 640x480 with 1 Axes>"
      ]
     },
     "metadata": {},
     "output_type": "display_data"
    }
   ],
   "source": [
    "plt.plot(gammas, msse_L1, label='L1')\n",
    "plt.plot(gammas, msse_STVS, label='STVS')\n",
    "plt.plot(gammas, msse_L2, label='L2')\n",
    "plt.plot(gammas, msse_ovk_7, label='OVK 7')\n",
    "plt.plot(gammas, msse_ovk_5, label='OVK 5')\n",
    "\n",
    "plt.xlabel('gamma')\n",
    "plt.ylabel('MSSE')\n",
    "plt.xscale('log')\n",
    "plt.ylim(0.02,0.08)\n",
    "plt.title('d=20 s=5')\n",
    "plt.legend()\n",
    "\n",
    "\n",
    "plt.show()"
   ]
  },
  {
   "cell_type": "code",
   "execution_count": null,
   "metadata": {},
   "outputs": [],
   "source": [
    "plt.plot(gammas, msse_L1, label='L1')\n",
    "plt.plot(gammas, msse_STVS, label='STVS')\n",
    "plt.plot(gammas, msse_L2, label='L2')\n",
    "plt.plot(gammas, msse_ovk_7, label='OVK 7')\n",
    "plt.plot(gammas, msse_ovk_5, label='OVK 5')\n",
    "\n",
    "plt.xlabel('gamma')\n",
    "plt.ylabel('MSSE')\n",
    "plt.xscale('log')\n",
    "plt.ylim(0.02,0.08)\n",
    "plt.title('d=20 s=5')\n",
    "plt.legend()\n",
    "\n",
    "\n",
    "plt.show()"
   ]
  },
  {
   "cell_type": "code",
   "execution_count": null,
   "metadata": {},
   "outputs": [
    {
     "name": "stdout",
     "output_type": "stream",
     "text": [
      "[[0.03902256 0.61041987 0.18761909 ... 0.6972163  0.5955169  0.7965896 ]\n",
      " [0.75192654 0.13669503 0.06572962 ... 0.3950665  0.58508253 0.5688101 ]\n",
      " [0.40223587 0.24557042 0.38755584 ... 0.25361097 0.4975618  0.27878308]\n",
      " ...\n",
      " [0.32719302 0.51074994 0.6011814  ... 0.6000309  0.5766239  0.90948427]\n",
      " [0.14575195 0.62248087 0.6995748  ... 0.3591907  0.6409892  0.53358936]\n",
      " [0.7117413  0.6535076  0.65649915 ... 0.32338548 0.54058266 0.16473258]]\n"
     ]
    },
    {
     "ename": "TypeError",
     "evalue": "unsupported operand type(s) for -: 'NoneType' and 'jaxlib.xla_extension.ArrayImpl'",
     "output_type": "error",
     "traceback": [
      "\u001b[0;31m---------------------------------------------------------------------------\u001b[0m",
      "\u001b[0;31mTypeError\u001b[0m                                 Traceback (most recent call last)",
      "Cell \u001b[0;32mIn[154], line 2\u001b[0m\n\u001b[1;32m      1\u001b[0m \u001b[39mprint\u001b[39m(samples_Y)\n\u001b[0;32m----> 2\u001b[0m jnp\u001b[39m.\u001b[39msum(jnp\u001b[39m.\u001b[39msquare(Y\u001b[39m-\u001b[39;49mtransport))\n",
      "\u001b[0;31mTypeError\u001b[0m: unsupported operand type(s) for -: 'NoneType' and 'jaxlib.xla_extension.ArrayImpl'"
     ]
    }
   ],
   "source": [
    "print(samples_Y)\n",
    "jnp.sum(jnp.square(Y-transport))"
   ]
  },
  {
   "cell_type": "code",
   "execution_count": null,
   "metadata": {},
   "outputs": [
    {
     "data": {
      "text/plain": [
       "Array([[0.12106334, 0.7762556 , 0.26511097, 0.41348058, 0.58790207,\n",
       "        0.79535294, 0.72755945, 0.05503238, 0.75360453, 0.6759715 ],\n",
       "       [0.6491399 , 0.7630162 , 0.64661866, 0.50093365, 0.88834846,\n",
       "        0.6358961 , 0.5673142 , 0.10637191, 0.9006008 , 0.5666311 ],\n",
       "       [0.6310556 , 0.4644221 , 0.19959973, 0.5173707 , 0.27280575,\n",
       "        0.4524237 , 0.40138972, 0.28894114, 0.23433949, 0.6746919 ],\n",
       "       [0.43859747, 0.36850435, 0.3730362 , 0.68880105, 0.87446237,\n",
       "        0.73316896, 0.52361816, 0.8273449 , 0.5556587 , 0.53940594],\n",
       "       [0.81686234, 0.19539739, 0.76117533, 0.67975396, 0.3505365 ,\n",
       "        0.2331698 , 0.45459047, 0.43754882, 0.7945608 , 0.31587654],\n",
       "       [0.51361   , 0.49907818, 0.3714864 , 0.62963635, 0.6621443 ,\n",
       "        0.3889362 , 0.80806106, 0.28289768, 0.72826195, 0.21349758],\n",
       "       [0.6640275 , 0.51333284, 0.2773545 , 0.30330524, 0.7736206 ,\n",
       "        0.7885459 , 0.7969054 , 0.32344702, 0.45384425, 0.46542746],\n",
       "       [0.26957878, 0.6229767 , 0.21054788, 0.658249  , 0.3652596 ,\n",
       "        0.8169936 , 0.9303434 , 0.92404765, 0.37553605, 0.59411263],\n",
       "       [0.2249854 , 0.28857756, 0.45383745, 0.37949362, 0.42119423,\n",
       "        0.4909523 , 0.36835468, 0.4746046 , 0.8637253 , 0.9410957 ],\n",
       "       [0.61536974, 0.42351407, 0.5077298 , 0.15362906, 0.60109615,\n",
       "        0.14771084, 0.36135563, 0.4155714 , 0.6459109 , 0.05269784],\n",
       "       [0.7363901 , 0.70994765, 0.57987875, 0.59544736, 0.49336794,\n",
       "        0.3771793 , 0.83266675, 0.34378722, 0.49258485, 0.2781432 ],\n",
       "       [0.8077788 , 0.8627701 , 0.6063109 , 0.2142174 , 0.62501144,\n",
       "        0.7843935 , 0.1849054 , 0.81407094, 0.34434807, 0.33263758],\n",
       "       [0.25371197, 0.22929585, 0.13290411, 0.43462276, 0.60077614,\n",
       "        0.15652323, 0.48912567, 0.55161506, 0.7210548 , 0.28164497],\n",
       "       [0.29761338, 0.35606015, 0.10833955, 0.49117398, 0.82899916,\n",
       "        0.2044021 , 0.31432447, 0.26932007, 0.8253281 , 0.13142157],\n",
       "       [0.30227664, 0.27064806, 0.25230289, 0.34919006, 0.60308754,\n",
       "        0.19892818, 0.3701527 , 0.68774897, 0.41704562, 0.24899581],\n",
       "       [0.5724884 , 0.6575196 , 0.8317078 , 0.69170254, 0.65057683,\n",
       "        0.68441653, 0.5940742 , 0.550061  , 0.8029423 , 0.5201568 ],\n",
       "       [0.46594322, 0.65010166, 0.30210635, 0.8305589 , 0.6761964 ,\n",
       "        0.30958882, 0.6908771 , 0.33232248, 0.82044744, 0.3073631 ],\n",
       "       [0.68111   , 0.36932144, 0.36274946, 0.5822407 , 0.38437712,\n",
       "        0.63562155, 0.4464261 , 0.6690364 , 0.82106435, 0.8330655 ],\n",
       "       [0.7164856 , 0.36706024, 0.26679847, 0.5926318 , 0.41059247,\n",
       "        0.8170549 , 0.54437417, 0.8982929 , 0.28728995, 0.7267433 ],\n",
       "       [0.38654187, 0.5077893 , 0.6934419 , 0.6127697 , 0.20433302,\n",
       "        0.44588813, 0.5236315 , 0.26743868, 0.5441064 , 0.4553576 ],\n",
       "       [0.45951402, 0.66962814, 0.82875574, 0.30609825, 0.82031906,\n",
       "        0.86067057, 0.42360693, 0.3404799 , 0.581338  , 0.6241685 ],\n",
       "       [0.71292454, 0.5795991 , 0.75670236, 0.63367194, 0.6381155 ,\n",
       "        0.5645114 , 0.7523747 , 0.51942843, 0.26519442, 0.1625365 ],\n",
       "       [0.3275702 , 0.58809173, 0.81360763, 0.4102559 , 0.816808  ,\n",
       "        0.5671196 , 0.10059383, 0.68820024, 0.24412635, 0.74147713],\n",
       "       [0.15566626, 0.2679685 , 0.06405744, 0.7086508 , 0.3818882 ,\n",
       "        0.946385  , 0.73998684, 0.5357916 , 0.57979083, 0.7085111 ],\n",
       "       [0.6034398 , 0.82963854, 0.49377534, 0.43348977, 0.49904683,\n",
       "        0.13980827, 0.45435715, 0.51793027, 0.4228348 , 0.6913247 ],\n",
       "       [0.8293793 , 0.1078839 , 0.25469595, 0.63945323, 0.44838983,\n",
       "        0.55255914, 0.29398784, 0.08522967, 0.6114947 , 0.81070757],\n",
       "       [0.48122874, 0.71326524, 0.46785396, 0.24375127, 0.8714882 ,\n",
       "        0.36594453, 0.624869  , 0.28613213, 0.43971795, 0.51613647],\n",
       "       [0.0903435 , 0.9115097 , 0.08055708, 0.1400657 , 0.51823926,\n",
       "        0.36082315, 0.14523791, 0.3640969 , 0.6471627 , 0.68477386],\n",
       "       [0.4133588 , 0.40450525, 0.17525494, 0.6236032 , 0.4417038 ,\n",
       "        0.7169623 , 0.63570243, 0.9073252 , 0.22923894, 0.5740317 ],\n",
       "       [0.32599193, 0.8827666 , 0.20983247, 0.4682809 , 0.8350308 ,\n",
       "        0.27414083, 0.47231233, 0.15713717, 0.30082226, 0.7807688 ],\n",
       "       [0.73791975, 0.22677092, 0.13914308, 0.56860304, 0.5788366 ,\n",
       "        0.83091146, 0.8500845 , 0.27930367, 0.8479819 , 0.537793  ],\n",
       "       [0.65678865, 0.15858983, 0.12466367, 0.2528177 , 0.8438572 ,\n",
       "        0.68712133, 0.2391961 , 0.7807754 , 0.91546893, 0.7575222 ],\n",
       "       [0.8566865 , 0.2641106 , 0.41632098, 0.35691544, 0.6155516 ,\n",
       "        0.906162  , 0.26005802, 0.33270332, 0.41696   , 0.75002044],\n",
       "       [0.56953174, 0.61210775, 0.44881713, 0.20927903, 0.2918864 ,\n",
       "        0.7316439 , 0.21574247, 0.6404673 , 0.6660566 , 0.32201612],\n",
       "       [0.51458776, 0.44324315, 0.41954327, 0.25467157, 0.885454  ,\n",
       "        0.2634848 , 0.5967499 , 0.63200533, 0.23535039, 0.4286307 ],\n",
       "       [0.2841282 , 0.37101573, 0.28934667, 0.59132075, 0.9025394 ,\n",
       "        0.09842546, 0.41718218, 0.7625909 , 0.35797817, 0.69654626],\n",
       "       [0.23809022, 0.6498779 , 0.81662536, 0.18492949, 0.5196488 ,\n",
       "        0.5595322 , 0.27038938, 0.44516736, 0.7019317 , 0.26158643],\n",
       "       [0.7038487 , 0.32732368, 0.68630445, 0.1974927 , 0.1308709 ,\n",
       "        0.8417947 , 0.28562906, 0.47916773, 0.56779647, 0.40083975],\n",
       "       [0.08976527, 0.4548835 , 0.2909888 , 0.9773062 , 0.5384785 ,\n",
       "        0.3781327 , 0.8629711 , 0.1284177 , 0.10920274, 0.5288179 ],\n",
       "       [0.831283  , 0.81784534, 0.4503325 , 0.64623034, 0.7548511 ,\n",
       "        0.295017  , 0.39020473, 0.1745342 , 0.3618511 , 0.63253474],\n",
       "       [0.39400694, 0.23411112, 0.7914077 , 0.53051496, 0.81432635,\n",
       "        0.2667416 , 0.25990993, 0.71127486, 0.24040696, 0.704189  ],\n",
       "       [0.4768238 , 0.45959595, 0.64021546, 0.84377116, 0.5976671 ,\n",
       "        0.6857804 , 0.50751513, 0.48318812, 0.7700621 , 0.2819317 ],\n",
       "       [0.5434937 , 0.35506123, 0.2672616 , 0.7407255 , 0.5364129 ,\n",
       "        0.5030373 , 0.8048991 , 0.27268988, 0.7047552 , 0.30175662],\n",
       "       [0.57497996, 0.41074142, 0.42161506, 0.44010493, 0.7807104 ,\n",
       "        0.2757968 , 0.57182556, 0.3105052 , 0.41185194, 0.2842813 ],\n",
       "       [0.23451847, 0.43831074, 0.92783123, 0.77187693, 0.4198019 ,\n",
       "        0.37109324, 0.6484583 , 0.80622977, 0.6769728 , 0.5030319 ],\n",
       "       [0.52972305, 0.36249322, 0.7763134 , 0.24090831, 0.62630326,\n",
       "        0.5677156 , 0.42401776, 0.41979128, 0.40050206, 0.30827755],\n",
       "       [0.27660325, 0.74315065, 0.8722215 , 0.3040912 , 0.3225692 ,\n",
       "        0.48617873, 0.284283  , 0.26154897, 0.41011733, 0.342548  ],\n",
       "       [0.73056644, 0.4527304 , 0.8099208 , 0.55637896, 0.74406666,\n",
       "        0.07830235, 0.284401  , 0.6905149 , 0.27568215, 0.86074185],\n",
       "       [0.72099185, 0.3255862 , 0.7635385 , 0.33273613, 0.4472263 ,\n",
       "        0.8054934 , 0.49810505, 0.37019548, 0.5754051 , 0.31103253],\n",
       "       [0.34018558, 0.86408997, 0.65143025, 0.7258841 , 0.79188997,\n",
       "        0.07859962, 0.24593885, 0.46081263, 0.25469875, 0.7682166 ],\n",
       "       [0.44322133, 0.65228784, 0.65399104, 0.5747084 , 0.4370464 ,\n",
       "        0.57456607, 0.6327177 , 0.32033685, 0.7347245 , 0.3010651 ],\n",
       "       [0.82640284, 0.16035213, 0.6696223 , 0.7885065 , 0.49325222,\n",
       "        0.18490176, 0.6582834 , 0.7237791 , 0.71992636, 0.60923624],\n",
       "       [0.2962016 , 0.6960091 , 0.33024102, 0.7143352 , 0.8005669 ,\n",
       "        0.16513361, 0.40357012, 0.7900099 , 0.48444828, 0.8043091 ],\n",
       "       [0.16815437, 0.4157366 , 0.32208776, 0.13063662, 0.36500883,\n",
       "        0.576397  , 0.846372  , 0.4163172 , 0.47305775, 0.7638013 ],\n",
       "       [0.77474576, 0.314845  , 0.8159317 , 0.7130704 , 0.7414568 ,\n",
       "        0.55280405, 0.68954307, 0.70847076, 0.06875342, 0.0469944 ],\n",
       "       [0.70066917, 0.8103957 , 0.18596534, 0.32292804, 0.26360545,\n",
       "        0.7979689 , 0.38480476, 0.406549  , 0.7001173 , 0.42195535],\n",
       "       [0.8125255 , 0.11189173, 0.3637152 , 0.44704306, 0.41768238,\n",
       "        0.76571643, 0.33797598, 0.14246535, 0.6292813 , 0.78568226],\n",
       "       [0.4795148 , 0.29933482, 0.6552485 , 0.759671  , 0.5606049 ,\n",
       "        0.16863757, 0.32105908, 0.20249598, 0.25646567, 0.42451048],\n",
       "       [0.8407374 , 0.27552718, 0.13466679, 0.6026849 , 0.22054999,\n",
       "        0.7437815 , 0.8823986 , 0.25398445, 0.12806074, 0.39166105],\n",
       "       [0.52640384, 0.86572456, 0.25074157, 0.25243926, 0.53898007,\n",
       "        0.85160714, 0.7044569 , 0.2627464 , 0.41926873, 0.5164459 ],\n",
       "       [0.59898114, 0.7218818 , 0.72891986, 0.56208396, 0.8055416 ,\n",
       "        0.515187  , 0.32136366, 0.34306693, 0.778682  , 0.4058525 ],\n",
       "       [0.8809998 , 0.24399564, 0.39971757, 0.40416393, 0.51024103,\n",
       "        0.79497683, 0.79664344, 0.75426215, 0.83364755, 0.26246828],\n",
       "       [0.40341437, 0.56292754, 0.2937166 , 0.40807018, 0.73549736,\n",
       "        0.2792489 , 0.70584595, 0.4346192 , 0.25076503, 0.41918105],\n",
       "       [0.3407394 , 0.8136987 , 0.60848516, 0.44389316, 0.75295126,\n",
       "        0.8270676 , 0.4419475 , 0.6188301 , 0.70090735, 0.4762951 ],\n",
       "       [0.56364024, 0.7183643 , 0.76968515, 0.312169  , 0.2203179 ,\n",
       "        0.5899109 , 0.76371306, 0.2769564 , 0.47674143, 0.32701677],\n",
       "       [0.55104786, 0.42309743, 0.7123508 , 0.44358122, 0.71545875,\n",
       "        0.69470894, 0.3148999 , 0.4578945 , 0.7848702 , 0.76032674],\n",
       "       [0.50523126, 0.30485043, 0.27849793, 0.65212804, 0.48362556,\n",
       "        0.729497  , 0.2518145 , 0.47946185, 0.8232478 , 0.84178025],\n",
       "       [0.46510696, 0.55745137, 0.7834156 , 0.4971449 , 0.670856  ,\n",
       "        0.8036281 , 0.2373575 , 0.49248362, 0.46905977, 0.698714  ],\n",
       "       [0.37203774, 0.83712   , 0.09977557, 0.30267507, 0.38752228,\n",
       "        0.6491551 , 0.2929822 , 0.42595652, 0.5773647 , 0.4181819 ],\n",
       "       [0.45530593, 0.3889257 , 0.6194568 , 0.6782197 , 0.33889848,\n",
       "        0.285151  , 0.38055235, 0.26487896, 0.36726233, 0.5221228 ],\n",
       "       [0.25996035, 0.5349892 , 0.7743722 , 0.7868259 , 0.18115838,\n",
       "        0.5498842 , 0.599111  , 0.69858557, 0.3167433 , 0.2983409 ],\n",
       "       [0.6445315 , 0.5644996 , 0.34670904, 0.8662945 , 0.6551495 ,\n",
       "        0.24803665, 0.7875247 , 0.24846144, 0.5589247 , 0.20900492],\n",
       "       [0.824101  , 0.6797181 , 0.40991107, 0.8208126 , 0.4346991 ,\n",
       "        0.25936672, 0.69745433, 0.8645018 , 0.6903366 , 0.38561165],\n",
       "       [0.22820851, 0.31756777, 0.32659683, 0.64636517, 0.90606487,\n",
       "        0.56950456, 0.36096174, 0.77721334, 0.5170676 , 0.59535253],\n",
       "       [0.32485342, 0.25066215, 0.6777682 , 0.8029011 , 0.84667194,\n",
       "        0.2749381 , 0.49977905, 0.53652555, 0.20529996, 0.46876583],\n",
       "       [0.7595532 , 0.77719355, 0.61419034, 0.6389972 , 0.5608446 ,\n",
       "        0.68602026, 0.8425283 , 0.43806747, 0.6881527 , 0.6114105 ],\n",
       "       [0.22698055, 0.47626388, 0.7127235 , 0.545243  , 0.5786416 ,\n",
       "        0.46008587, 0.5881931 , 0.18910281, 0.8633187 , 0.60187465],\n",
       "       [0.32279044, 0.7615768 , 0.8912762 , 0.8811996 , 0.11313295,\n",
       "        0.848896  , 0.54966456, 0.6967714 , 0.28860703, 0.27397808],\n",
       "       [0.2714308 , 0.48559543, 0.7002326 , 0.18738993, 0.4409837 ,\n",
       "        0.68812215, 0.34285665, 0.382213  , 0.74904287, 0.32200515],\n",
       "       [0.79448307, 0.4509902 , 0.5548031 , 0.8586591 , 0.28756273,\n",
       "        0.26008296, 0.5953636 , 0.59570396, 0.716394  , 0.42522243],\n",
       "       [0.3509016 , 0.35029542, 0.47400117, 0.22991987, 0.3795362 ,\n",
       "        0.46423936, 0.560656  , 0.7105282 , 0.43403384, 0.81440115],\n",
       "       [0.39457232, 0.72891057, 0.59084374, 0.64906025, 0.2138139 ,\n",
       "        0.3462847 , 0.8214316 , 0.15893249, 0.91411877, 0.6239568 ],\n",
       "       [0.6180486 , 0.7676729 , 0.12090994, 0.29565126, 0.36251834,\n",
       "        0.42718711, 0.2215459 , 0.63032943, 0.21999195, 0.5332589 ],\n",
       "       [0.37125933, 0.6513952 , 0.5745511 , 0.15381294, 0.7142589 ,\n",
       "        0.5880014 , 0.3580767 , 0.6678877 , 0.41611356, 0.85562205],\n",
       "       [0.17494977, 0.41576877, 0.91784006, 0.3958666 , 0.5395033 ,\n",
       "        0.19158134, 0.34356198, 0.616334  , 0.73519677, 0.32287252],\n",
       "       [0.48864126, 0.9456628 , 0.94189316, 0.24247327, 0.50743896,\n",
       "        0.9296558 , 0.24916883, 0.43044764, 0.57910997, 0.8472955 ],\n",
       "       [0.84181416, 0.81113636, 0.532831  , 0.6433387 , 0.6146612 ,\n",
       "        0.5740121 , 0.77746415, 0.1997211 , 0.66328365, 0.5769316 ],\n",
       "       [0.3628451 , 0.32762325, 0.5816427 , 0.7114169 , 0.10640199,\n",
       "        0.7649472 , 0.30528113, 0.0856825 , 0.21639667, 0.5202461 ],\n",
       "       [0.3699353 , 0.32575858, 0.4413048 , 0.18637991, 0.16359691,\n",
       "        0.8584747 , 0.58973646, 0.16979343, 0.6745235 , 0.27426603],\n",
       "       [0.8252453 , 0.37912956, 0.84442914, 0.26073626, 0.70051944,\n",
       "        0.9219545 , 0.14589879, 0.16409905, 0.52768725, 0.5996059 ],\n",
       "       [0.37662572, 0.46371526, 0.8071101 , 0.5178889 , 0.07928126,\n",
       "        0.793797  , 0.44051588, 0.1757938 , 0.19160008, 0.27475673],\n",
       "       [0.19762549, 0.5649744 , 0.5535146 , 0.22984387, 0.65981543,\n",
       "        0.59022635, 0.59228575, 0.59937835, 0.71913695, 0.4723731 ],\n",
       "       [0.37082028, 0.83517903, 0.64086837, 0.4468637 , 0.27180034,\n",
       "        0.5087106 , 0.88243014, 0.15768033, 0.76852554, 0.5134526 ],\n",
       "       [0.81343865, 0.3282137 , 0.5672787 , 0.37443513, 0.6522916 ,\n",
       "        0.63569534, 0.23430593, 0.86047256, 0.23031597, 0.7698481 ],\n",
       "       [0.88375616, 0.6406382 , 0.3960977 , 0.73968333, 0.39580142,\n",
       "        0.28115433, 0.14038126, 0.22808227, 0.23367392, 0.02707101],\n",
       "       [0.62319034, 0.79363143, 0.7364915 , 0.6209869 , 0.705636  ,\n",
       "        0.3062138 , 0.8027957 , 0.8160776 , 0.7978027 , 0.78381896],\n",
       "       [0.23556483, 0.75476277, 0.4993068 , 0.35497335, 0.7051208 ,\n",
       "        0.65417325, 0.7418745 , 0.7449663 , 0.84154594, 0.15619269],\n",
       "       [0.7503071 , 0.52580655, 0.23245917, 0.41301304, 0.42788303,\n",
       "        0.35445356, 0.37301445, 0.33164746, 0.20184712, 0.44866198],\n",
       "       [0.3021533 , 0.8560104 , 0.09483506, 0.51239693, 0.57041377,\n",
       "        0.44996852, 0.42682737, 0.2231304 , 0.32755432, 0.4100072 ],\n",
       "       [0.830978  , 0.54726565, 0.78024673, 0.3641578 , 0.6667096 ,\n",
       "        0.39970654, 0.62570435, 0.612953  , 0.57856965, 0.06570309]],      dtype=float32)"
      ]
     },
     "execution_count": 114,
     "metadata": {},
     "output_type": "execute_result"
    }
   ],
   "source": [
    "dual_transport.transport(samples_X)"
   ]
  },
  {
   "cell_type": "code",
   "execution_count": null,
   "metadata": {},
   "outputs": [],
   "source": [
    "samples_X = generate_uniform_samples(n, d,n_key=1)\n",
    "samples_Y = generate_uniform_samples(n, d,n_key=2)\n",
    "\n",
    "X = samples_X \n",
    "Y_constant_pattern = vmap(lambda x: map_constant_pattern(x, s))(samples_Y)\n",
    "Y_dependent_pattern = vmap(lambda x: map_dependent_pattern(x, s))(samples_Y)"
   ]
  },
  {
   "cell_type": "code",
   "execution_count": null,
   "metadata": {},
   "outputs": [
    {
     "name": "stdout",
     "output_type": "stream",
     "text": [
      " Sinkhorn has converged:  True \n",
      " Error upon last iteration:  2.041459e-06 \n",
      " Sinkhorn required  1  iterations to converge. \n",
      " Entropy regularized OT cost:  3.5212984 \n",
      " OT cost (without entropy):  3.4719267\n"
     ]
    }
   ],
   "source": [
    "# Define a linear problem with that cost structure.\n",
    "ot_prob = linear_problem.LinearProblem(geom)\n",
    "# Create a Sinkhorn solver\n",
    "solver = sinkhorn.Sinkhorn()\n",
    "# Solve OT problem\n",
    "ot = solver(ot_prob)\n",
    "# The out object contains many things, among which the regularized OT cost\n",
    "print(\n",
    "    \" Sinkhorn has converged: \",\n",
    "    ot.converged,\n",
    "    \"\\n\",\n",
    "    \"Error upon last iteration: \",\n",
    "    ot.errors[(ot.errors > -1)][-1],\n",
    "    \"\\n\",\n",
    "    \"Sinkhorn required \",\n",
    "    jnp.sum(ot.errors > -1),\n",
    "    \" iterations to converge. \\n\",\n",
    "    \"Entropy regularized OT cost: \",\n",
    "    ot.reg_ot_cost,\n",
    "    \"\\n\",\n",
    "    \"OT cost (without entropy): \",\n",
    "    jnp.sum(ot.matrix * ot.geom.cost_matrix))"
   ]
  },
  {
   "cell_type": "code",
   "execution_count": null,
   "metadata": {},
   "outputs": [
    {
     "data": {
      "text/plain": [
       "<ott.problems.linear.potentials.EntropicPotentials at 0x29e1c8550>"
      ]
     },
     "execution_count": 74,
     "metadata": {},
     "output_type": "execute_result"
    }
   ],
   "source": [
    "ot.to_dual_potentials()"
   ]
  },
  {
   "cell_type": "code",
   "execution_count": null,
   "metadata": {},
   "outputs": [],
   "source": []
  },
  {
   "cell_type": "code",
   "execution_count": null,
   "metadata": {},
   "outputs": [],
   "source": []
  },
  {
   "cell_type": "code",
   "execution_count": null,
   "metadata": {},
   "outputs": [
    {
     "data": {
      "image/png": "[encoded data removed]",
      "text/plain": [
       "<Figure size 800x600 with 1 Axes>"
      ]
     },
     "metadata": {},
     "output_type": "display_data"
    }
   ],
   "source": [
    "x_args = {\"s\": 100, \"label\": r\"target $y$\", \"edgecolor\": \"k\", \"alpha\": 0.75}\n",
    "y_args = {\"s\": 100, \"label\": r\"source $x$\", \"marker\": \"s\", \"edgecolor\": \"k\"}\n",
    "plt.figure(figsize=(8, 6))\n",
    "plt.scatter(X[:, 0], X[:, 1], **y_args)\n",
    "plt.scatter(Y[:, 0], Y[:, 1], **x_args)\n",
    "plt.axhline(0, color='black', linewidth=2)\n",
    "plt.axvline(0, color='black', linewidth=2)\n",
    "plt.legend()\n",
    "plt.grid(True)\n",
    "plt.show()"
   ]
  },
  {
   "cell_type": "code",
   "execution_count": null,
   "metadata": {},
   "outputs": [],
   "source": [
    "from ott.solvers.linear.sinkhorn import Sinkhorn"
   ]
  },
  {
   "cell_type": "code",
   "execution_count": null,
   "metadata": {},
   "outputs": [],
   "source": [
    "def solve_sinkhorn(ticost, mu, nu, rho, epsilon, n_iter):\n",
    "    # Create the OTT Sinkhorn solver object\n",
    "    sinkhorn_solver = Sinkhorn(ticost)\n",
    "\n",
    "    # Solve the optimal transport problem\n",
    "    result = sinkhorn_solver(mu, nu, rho, epsilon)\n",
    "\n",
    "    # Extract dual potentials from the result\n",
    "    dual_potentials = result.dual\n",
    "\n",
    "    return dual_potentials"
   ]
  },
  {
   "cell_type": "code",
   "execution_count": null,
   "metadata": {},
   "outputs": [
    {
     "ename": "TypeError",
     "evalue": "Sinkhorn.__call__() takes from 2 to 4 positional arguments but 5 were given",
     "output_type": "error",
     "traceback": [
      "\u001b[0;31m---------------------------------------------------------------------------\u001b[0m",
      "\u001b[0;31mTypeError\u001b[0m                                 Traceback (most recent call last)",
      "Cell \u001b[0;32mIn[29], line 7\u001b[0m\n\u001b[1;32m      4\u001b[0m ticost \u001b[39m=\u001b[39m RegTICost(tau)\n\u001b[1;32m      6\u001b[0m \u001b[39m# Solve the optimal transport problem and get dual potentials\u001b[39;00m\n\u001b[0;32m----> 7\u001b[0m dual_potentials \u001b[39m=\u001b[39m solve_sinkhorn(ticost, X, Y, geom, epsilon, n_iter)\n",
      "Cell \u001b[0;32mIn[28], line 6\u001b[0m, in \u001b[0;36msolve_sinkhorn\u001b[0;34m(ticost, mu, nu, rho, epsilon, n_iter)\u001b[0m\n\u001b[1;32m      3\u001b[0m sinkhorn_solver \u001b[39m=\u001b[39m Sinkhorn(ticost)\n\u001b[1;32m      5\u001b[0m \u001b[39m# Solve the optimal transport problem\u001b[39;00m\n\u001b[0;32m----> 6\u001b[0m result \u001b[39m=\u001b[39m sinkhorn_solver(mu, nu, rho, epsilon)\n\u001b[1;32m      8\u001b[0m \u001b[39m# Extract dual potentials from the result\u001b[39;00m\n\u001b[1;32m      9\u001b[0m dual_potentials \u001b[39m=\u001b[39m result\u001b[39m.\u001b[39mdual\n",
      "\u001b[0;31mTypeError\u001b[0m: Sinkhorn.__call__() takes from 2 to 4 positional arguments but 5 were given"
     ]
    }
   ],
   "source": [
    "epsilon = 0.1  # Regularization parameter\n",
    "n_iter = 100   # Number of Sinkhorn iterations\n",
    "tau = 0.1\n",
    "ticost = RegTICost(tau)\n",
    "\n",
    "# Solve the optimal transport problem and get dual potentials\n",
    "dual_potentials = solve_sinkhorn(ticost, X, Y, geom, epsilon, n_iter)"
   ]
  }
 ],
 "metadata": {
  "kernelspec": {
   "display_name": "Python 3.11.0 64-bit",
   "language": "python",
   "name": "python3"
  },
  "language_info": {
   "codemirror_mode": {
    "name": "ipython",
    "version": 3
   },
   "file_extension": ".py",
   "mimetype": "text/x-python",
   "name": "python",
   "nbconvert_exporter": "python",
   "pygments_lexer": "ipython3",
   "version": "3.11.0"
  },
  "orig_nbformat": 4,
  "vscode": {
   "interpreter": {
    "hash": "aee8b7b246df8f9039afb4144a1f6fd8d2ca17a180786b69acc140d282b71a49"
   }
  }
 },
 "nbformat": 4,
 "nbformat_minor": 2
}
